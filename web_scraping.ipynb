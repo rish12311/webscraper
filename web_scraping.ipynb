{
  "nbformat": 4,
  "nbformat_minor": 0,
  "metadata": {
    "colab": {
      "provenance": []
    },
    "kernelspec": {
      "name": "python3",
      "display_name": "Python 3"
    },
    "language_info": {
      "name": "python"
    }
  },
  "cells": [
    {
      "cell_type": "code",
      "execution_count": 3,
      "metadata": {
        "id": "VTc8Zn1ca3GV"
      },
      "outputs": [],
      "source": [
        "import pandas as pd\n",
        "import numpy as np\n",
        "import requests"
      ]
    },
    {
      "cell_type": "code",
      "source": [
        "from bs4 import BeautifulSoup"
      ],
      "metadata": {
        "id": "QrAg1Qyja_5s"
      },
      "execution_count": 2,
      "outputs": []
    },
    {
      "cell_type": "code",
      "source": [
        "headers = {\n",
        "    'User-Agent': 'Mozilla/5.0 (Windows NT 6.3; Win64; x64) AppleWebKit/537.36 (KHTML, like Gecko) Chrome/80.0.3987.162 Safari/537.36'\n",
        "}\n",
        "webpage = requests.get('https://www.ambitionbox.com/list-of-companies?page=1', headers=headers).text"
      ],
      "metadata": {
        "id": "16RsiT3CbK1K"
      },
      "execution_count": null,
      "outputs": []
    },
    {
      "cell_type": "code",
      "source": [
        "soup=BeautifulSoup(webpage,'lxml')"
      ],
      "metadata": {
        "id": "WlimWSfdbU4X"
      },
      "execution_count": null,
      "outputs": []
    },
    {
      "cell_type": "code",
      "source": [
        "print(soup.prettify())"
      ],
      "metadata": {
        "id": "UkSHrg_PcOkg"
      },
      "execution_count": null,
      "outputs": []
    },
    {
      "cell_type": "code",
      "source": [
        "soup.find_all('h1')[0].text"
      ],
      "metadata": {
        "id": "irloQl9ycYI-"
      },
      "execution_count": null,
      "outputs": []
    },
    {
      "cell_type": "code",
      "source": [
        "soup.find_all('h2')"
      ],
      "metadata": {
        "id": "UNZFdl7Uczuv"
      },
      "execution_count": null,
      "outputs": []
    },
    {
      "cell_type": "code",
      "source": [
        "for i in soup.find_all('h2'):\n",
        "   print(i.text.strip())"
      ],
      "metadata": {
        "id": "340rT75RdEAJ"
      },
      "execution_count": null,
      "outputs": []
    },
    {
      "cell_type": "code",
      "source": [
        "for i in soup.find_all('p'):\n",
        "   print(i.text.strip())"
      ],
      "metadata": {
        "id": "ndSJOL5OdTM6"
      },
      "execution_count": null,
      "outputs": []
    },
    {
      "cell_type": "code",
      "source": [
        "len(soup.find_all('p',class_='review-count'))"
      ],
      "metadata": {
        "id": "yGVbg9WieQTB"
      },
      "execution_count": null,
      "outputs": []
    },
    {
      "cell_type": "code",
      "source": [
        "company=soup.find_all('div',class_='companyCardWrapper')"
      ],
      "metadata": {
        "id": "qUfiY6x4exqK"
      },
      "execution_count": null,
      "outputs": []
    },
    {
      "cell_type": "code",
      "source": [
        "#data scraping company by company\n",
        "name=[]\n",
        "rating=[]\n",
        "salaries=[]\n",
        "additional_info=[]\n",
        "for i in company :\n",
        "  name.append(i.find('h2').text.strip())\n",
        "  rating.append(i.find_all('span',class_='companyCardWrapper__companyRatingValue')[0].text.strip())\n",
        "  salaries.append(i.find_all('span',class_='companyCardWrapper__ActionCount')[0].text.strip())\n",
        "  additional_info.append(i.find_all('span',class_='companyCardWrapper__interLinking')[0].text.strip())"
      ],
      "metadata": {
        "id": "m3gXdK2egEi2"
      },
      "execution_count": null,
      "outputs": []
    },
    {
      "cell_type": "code",
      "source": [
        "name"
      ],
      "metadata": {
        "id": "z84TE7NtgmJs"
      },
      "execution_count": null,
      "outputs": []
    },
    {
      "cell_type": "markdown",
      "source": [],
      "metadata": {
        "id": "6VXxs6o0jnLD"
      }
    },
    {
      "cell_type": "code",
      "source": [
        "soup.find_all('span',class_='companyCardWrapper__companyRatingValue')[1].text.strip()"
      ],
      "metadata": {
        "id": "EUJlfBgsg9Zv"
      },
      "execution_count": null,
      "outputs": []
    },
    {
      "cell_type": "code",
      "source": [
        "rating"
      ],
      "metadata": {
        "id": "lqhhiKFKjHza"
      },
      "execution_count": null,
      "outputs": []
    },
    {
      "cell_type": "code",
      "source": [
        "soup.find_all('span',class_='companyCardWrapper__ActionCount')[1].text.strip()"
      ],
      "metadata": {
        "id": "pRENbjv8j7WW"
      },
      "execution_count": null,
      "outputs": []
    },
    {
      "cell_type": "markdown",
      "source": [],
      "metadata": {
        "id": "3qAfqay1lti3"
      }
    },
    {
      "cell_type": "code",
      "source": [
        "salaries"
      ],
      "metadata": {
        "id": "GM5hdMsDlLQy"
      },
      "execution_count": null,
      "outputs": []
    },
    {
      "cell_type": "code",
      "source": [
        "company[0]"
      ],
      "metadata": {
        "id": "4Klz4a38luy2"
      },
      "execution_count": null,
      "outputs": []
    },
    {
      "cell_type": "code",
      "source": [
        "company[0].find_all('span',class_='companyCardWrapper__interLinking')[0].text.strip()"
      ],
      "metadata": {
        "id": "Xgt6b-ZMl6qT"
      },
      "execution_count": null,
      "outputs": []
    },
    {
      "cell_type": "code",
      "source": [
        "additional_info"
      ],
      "metadata": {
        "id": "WB5aGbTTm75P"
      },
      "execution_count": null,
      "outputs": []
    },
    {
      "cell_type": "code",
      "source": [
        "df=pd.DataFrame({'name':name,\n",
        "   'rating':rating,\n",
        "   'salaries':salaries,\n",
        "   'Extra Info':additional_info,\n",
        "   })\n"
      ],
      "metadata": {
        "id": "P-gvQ6lNnUyh"
      },
      "execution_count": null,
      "outputs": []
    },
    {
      "cell_type": "code",
      "source": [
        "df.to_csv(\"AmbitionBox.csv\")"
      ],
      "metadata": {
        "id": "wbYcdjnRoNe2"
      },
      "execution_count": null,
      "outputs": []
    },
    {
      "cell_type": "code",
      "source": [],
      "metadata": {
        "id": "C3QAQjHKoSPT"
      },
      "execution_count": null,
      "outputs": []
    }
  ]
}